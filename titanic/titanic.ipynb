{
  "nbformat": 4,
  "nbformat_minor": 0,
  "metadata": {
    "colab": {
      "name": "titanic.ipynb",
      "provenance": [],
      "collapsed_sections": []
    },
    "kernelspec": {
      "name": "python3",
      "display_name": "Python 3"
    }
  },
  "cells": [
    {
      "cell_type": "code",
      "metadata": {
        "id": "j1kzaJH9SXaM",
        "colab_type": "code",
        "colab": {
          "base_uri": "https://localhost:8080/",
          "height": 124
        },
        "outputId": "9554d950-e821-4ae5-a04f-df0b744da6da"
      },
      "source": [
        "# importando o drive da biblioteca do google\n",
        "# e montando o drive para poder ter acesso aos arquivos locais\n",
        "\n",
        "from google.colab import drive\n",
        "drive.mount('/content/drive')"
      ],
      "execution_count": 1,
      "outputs": [
        {
          "output_type": "stream",
          "text": [
            "Go to this URL in a browser: https://accounts.google.com/o/oauth2/auth?client_id=947318989803-6bn6qk8qdgf4n4g3pfee6491hc0brc4i.apps.googleusercontent.com&redirect_uri=urn%3aietf%3awg%3aoauth%3a2.0%3aoob&response_type=code&scope=email%20https%3a%2f%2fwww.googleapis.com%2fauth%2fdocs.test%20https%3a%2f%2fwww.googleapis.com%2fauth%2fdrive%20https%3a%2f%2fwww.googleapis.com%2fauth%2fdrive.photos.readonly%20https%3a%2f%2fwww.googleapis.com%2fauth%2fpeopleapi.readonly\n",
            "\n",
            "Enter your authorization code:\n",
            "··········\n",
            "Mounted at /content/drive\n"
          ],
          "name": "stdout"
        }
      ]
    },
    {
      "cell_type": "code",
      "metadata": {
        "id": "-MCjhqeoShTB",
        "colab_type": "code",
        "colab": {}
      },
      "source": [
        "# importação das bibliotecas de manipulação de dados (pandas) e cálculos algébricos (numpy)\n",
        "\n",
        "import pandas as pd\n",
        "import numpy as np"
      ],
      "execution_count": 0,
      "outputs": []
    },
    {
      "cell_type": "code",
      "metadata": {
        "id": "N-hk_o4sStnK",
        "colab_type": "code",
        "colab": {}
      },
      "source": [
        "# leitura dos dados através do método read_csv() da biblioteca pandas\n",
        "\n",
        "train = pd.read_csv('/content/drive/My Drive/kaggle_competitions/titanic/train.csv')\n",
        "test = pd.read_csv('/content/drive/My Drive/kaggle_competitions/titanic/test.csv')\n",
        "gender_submission = pd.read_csv('/content/drive/My Drive/kaggle_competitions/titanic/gender_submission.csv')"
      ],
      "execution_count": 0,
      "outputs": []
    },
    {
      "cell_type": "markdown",
      "metadata": {
        "id": "cxkBiE16T2XN",
        "colab_type": "text"
      },
      "source": [
        "**Dados de treino**"
      ]
    },
    {
      "cell_type": "code",
      "metadata": {
        "id": "y3Ml-KI0S7nT",
        "colab_type": "code",
        "outputId": "a3582dce-8f15-4737-d2bb-c511c137c9be",
        "colab": {
          "base_uri": "https://localhost:8080/",
          "height": 241
        }
      },
      "source": [
        "# analisando os dados de treino, o método head() permite a visualização das 5 primeiras instâncias do dataset\n",
        "\n",
        "train.head()"
      ],
      "execution_count": 4,
      "outputs": [
        {
          "output_type": "execute_result",
          "data": {
            "text/html": [
              "<div>\n",
              "<style scoped>\n",
              "    .dataframe tbody tr th:only-of-type {\n",
              "        vertical-align: middle;\n",
              "    }\n",
              "\n",
              "    .dataframe tbody tr th {\n",
              "        vertical-align: top;\n",
              "    }\n",
              "\n",
              "    .dataframe thead th {\n",
              "        text-align: right;\n",
              "    }\n",
              "</style>\n",
              "<table border=\"1\" class=\"dataframe\">\n",
              "  <thead>\n",
              "    <tr style=\"text-align: right;\">\n",
              "      <th></th>\n",
              "      <th>PassengerId</th>\n",
              "      <th>Survived</th>\n",
              "      <th>Pclass</th>\n",
              "      <th>Name</th>\n",
              "      <th>Sex</th>\n",
              "      <th>Age</th>\n",
              "      <th>SibSp</th>\n",
              "      <th>Parch</th>\n",
              "      <th>Ticket</th>\n",
              "      <th>Fare</th>\n",
              "      <th>Cabin</th>\n",
              "      <th>Embarked</th>\n",
              "    </tr>\n",
              "  </thead>\n",
              "  <tbody>\n",
              "    <tr>\n",
              "      <th>0</th>\n",
              "      <td>1</td>\n",
              "      <td>0</td>\n",
              "      <td>3</td>\n",
              "      <td>Braund, Mr. Owen Harris</td>\n",
              "      <td>male</td>\n",
              "      <td>22.0</td>\n",
              "      <td>1</td>\n",
              "      <td>0</td>\n",
              "      <td>A/5 21171</td>\n",
              "      <td>7.2500</td>\n",
              "      <td>NaN</td>\n",
              "      <td>S</td>\n",
              "    </tr>\n",
              "    <tr>\n",
              "      <th>1</th>\n",
              "      <td>2</td>\n",
              "      <td>1</td>\n",
              "      <td>1</td>\n",
              "      <td>Cumings, Mrs. John Bradley (Florence Briggs Th...</td>\n",
              "      <td>female</td>\n",
              "      <td>38.0</td>\n",
              "      <td>1</td>\n",
              "      <td>0</td>\n",
              "      <td>PC 17599</td>\n",
              "      <td>71.2833</td>\n",
              "      <td>C85</td>\n",
              "      <td>C</td>\n",
              "    </tr>\n",
              "    <tr>\n",
              "      <th>2</th>\n",
              "      <td>3</td>\n",
              "      <td>1</td>\n",
              "      <td>3</td>\n",
              "      <td>Heikkinen, Miss. Laina</td>\n",
              "      <td>female</td>\n",
              "      <td>26.0</td>\n",
              "      <td>0</td>\n",
              "      <td>0</td>\n",
              "      <td>STON/O2. 3101282</td>\n",
              "      <td>7.9250</td>\n",
              "      <td>NaN</td>\n",
              "      <td>S</td>\n",
              "    </tr>\n",
              "    <tr>\n",
              "      <th>3</th>\n",
              "      <td>4</td>\n",
              "      <td>1</td>\n",
              "      <td>1</td>\n",
              "      <td>Futrelle, Mrs. Jacques Heath (Lily May Peel)</td>\n",
              "      <td>female</td>\n",
              "      <td>35.0</td>\n",
              "      <td>1</td>\n",
              "      <td>0</td>\n",
              "      <td>113803</td>\n",
              "      <td>53.1000</td>\n",
              "      <td>C123</td>\n",
              "      <td>S</td>\n",
              "    </tr>\n",
              "    <tr>\n",
              "      <th>4</th>\n",
              "      <td>5</td>\n",
              "      <td>0</td>\n",
              "      <td>3</td>\n",
              "      <td>Allen, Mr. William Henry</td>\n",
              "      <td>male</td>\n",
              "      <td>35.0</td>\n",
              "      <td>0</td>\n",
              "      <td>0</td>\n",
              "      <td>373450</td>\n",
              "      <td>8.0500</td>\n",
              "      <td>NaN</td>\n",
              "      <td>S</td>\n",
              "    </tr>\n",
              "  </tbody>\n",
              "</table>\n",
              "</div>"
            ],
            "text/plain": [
              "   PassengerId  Survived  Pclass  ...     Fare Cabin  Embarked\n",
              "0            1         0       3  ...   7.2500   NaN         S\n",
              "1            2         1       1  ...  71.2833   C85         C\n",
              "2            3         1       3  ...   7.9250   NaN         S\n",
              "3            4         1       1  ...  53.1000  C123         S\n",
              "4            5         0       3  ...   8.0500   NaN         S\n",
              "\n",
              "[5 rows x 12 columns]"
            ]
          },
          "metadata": {
            "tags": []
          },
          "execution_count": 4
        }
      ]
    },
    {
      "cell_type": "code",
      "metadata": {
        "id": "GIme2lIQT8MV",
        "colab_type": "code",
        "outputId": "a9c22ebb-8d29-41ed-93fb-7ab1db56dfb4",
        "colab": {
          "base_uri": "https://localhost:8080/",
          "height": 34
        }
      },
      "source": [
        "# o método shape permite que visualizemos o formato da matriz, quantidades de linhas e colunas\n",
        "# como podemos perceber nosso dataset tem 891 instâncias e tem dimensão 12\n",
        "\n",
        "train.shape"
      ],
      "execution_count": 5,
      "outputs": [
        {
          "output_type": "execute_result",
          "data": {
            "text/plain": [
              "(891, 12)"
            ]
          },
          "metadata": {
            "tags": []
          },
          "execution_count": 5
        }
      ]
    },
    {
      "cell_type": "code",
      "metadata": {
        "id": "Qlm3ClC2UJsC",
        "colab_type": "code",
        "outputId": "7752f72c-85a0-4545-b7de-ab9e9ae820d9",
        "colab": {
          "base_uri": "https://localhost:8080/",
          "height": 243
        }
      },
      "source": [
        "# através do método isna() podemos verificar quais dados são nulos e quais não são\n",
        "# em composição com a função sum(), podemos ter um total de quantos instâncias são nulas em cada atributo\n",
        "\n",
        "train.isna().sum()"
      ],
      "execution_count": 6,
      "outputs": [
        {
          "output_type": "execute_result",
          "data": {
            "text/plain": [
              "PassengerId      0\n",
              "Survived         0\n",
              "Pclass           0\n",
              "Name             0\n",
              "Sex              0\n",
              "Age            177\n",
              "SibSp            0\n",
              "Parch            0\n",
              "Ticket           0\n",
              "Fare             0\n",
              "Cabin          687\n",
              "Embarked         2\n",
              "dtype: int64"
            ]
          },
          "metadata": {
            "tags": []
          },
          "execution_count": 6
        }
      ]
    },
    {
      "cell_type": "code",
      "metadata": {
        "id": "IBp8a6muUaz5",
        "colab_type": "code",
        "colab": {}
      },
      "source": [
        "# A biblioteca SimpleImpute nos permite preencher os dados faltantes pela \n",
        "# média (mean), moda (most_frenquent), mediana (median) ou um valor contante (constant).\n",
        "\n",
        "from sklearn.impute import SimpleImputer"
      ],
      "execution_count": 0,
      "outputs": []
    },
    {
      "cell_type": "code",
      "metadata": {
        "id": "xJmzYfqAUz4X",
        "colab_type": "code",
        "colab": {}
      },
      "source": [
        "# aqui usamos a estratégia de média para substituir valores nulos\n",
        "\n",
        "imputer = SimpleImputer(missing_values=np.nan, strategy='mean')"
      ],
      "execution_count": 0,
      "outputs": []
    },
    {
      "cell_type": "code",
      "metadata": {
        "id": "dCiFgyWOWG7i",
        "colab_type": "code",
        "colab": {}
      },
      "source": [
        "# aqui usamos a estratégia de moda para substituir valores nulos\n",
        "\n",
        "imputer2 = SimpleImputer(missing_values=np.nan, strategy='most_frequent')"
      ],
      "execution_count": 0,
      "outputs": []
    },
    {
      "cell_type": "code",
      "metadata": {
        "id": "-zSRrqRgU-Fj",
        "colab_type": "code",
        "colab": {}
      },
      "source": [
        "# aqui aplicamos então a primeira estratégia (média) para preencher os valores nulos da feature Age\n",
        "\n",
        "train[['Age']] = imputer.fit_transform(train[['Age']])"
      ],
      "execution_count": 0,
      "outputs": []
    },
    {
      "cell_type": "code",
      "metadata": {
        "id": "Kvn3vRBAVZW1",
        "colab_type": "code",
        "colab": {}
      },
      "source": [
        "# aqui aplicamos então a segunda estratégia (moda) para preencher os valores nulos da feature Embarked\n",
        "\n",
        "train[['Embarked']] = imputer2.fit_transform(train[['Embarked']])"
      ],
      "execution_count": 0,
      "outputs": []
    },
    {
      "cell_type": "code",
      "metadata": {
        "id": "2hcbCRIyVzeA",
        "colab_type": "code",
        "colab": {}
      },
      "source": [
        "# decide remover duas features do dataset, o primeiro foi o Id do Passageiro, pois é irrelevante para a análise dos dados\n",
        "# podendo até atrapalhar na análise. O segundo foi a Cabine do passageiro, pois haviam muitos dados faltantes e nenhuma estratégia\n",
        "# de substituição dos valores faltantes daria certo.\n",
        "\n",
        "train.drop(columns=['PassengerId', 'Cabin'], axis=1, inplace=True)"
      ],
      "execution_count": 0,
      "outputs": []
    },
    {
      "cell_type": "markdown",
      "metadata": {
        "id": "3BcZGzPuTx5s",
        "colab_type": "text"
      },
      "source": [
        "**Dados de teste**"
      ]
    },
    {
      "cell_type": "code",
      "metadata": {
        "id": "6O1DGPlhTEJU",
        "colab_type": "code",
        "outputId": "62708467-49fc-43ae-9dd3-b4f3ec747ec9",
        "colab": {
          "base_uri": "https://localhost:8080/",
          "height": 206
        }
      },
      "source": [
        "# verificando os valores do dataset pelo método head()\n",
        "\n",
        "test.head()"
      ],
      "execution_count": 15,
      "outputs": [
        {
          "output_type": "execute_result",
          "data": {
            "text/html": [
              "<div>\n",
              "<style scoped>\n",
              "    .dataframe tbody tr th:only-of-type {\n",
              "        vertical-align: middle;\n",
              "    }\n",
              "\n",
              "    .dataframe tbody tr th {\n",
              "        vertical-align: top;\n",
              "    }\n",
              "\n",
              "    .dataframe thead th {\n",
              "        text-align: right;\n",
              "    }\n",
              "</style>\n",
              "<table border=\"1\" class=\"dataframe\">\n",
              "  <thead>\n",
              "    <tr style=\"text-align: right;\">\n",
              "      <th></th>\n",
              "      <th>PassengerId</th>\n",
              "      <th>Pclass</th>\n",
              "      <th>Name</th>\n",
              "      <th>Sex</th>\n",
              "      <th>Age</th>\n",
              "      <th>SibSp</th>\n",
              "      <th>Parch</th>\n",
              "      <th>Ticket</th>\n",
              "      <th>Fare</th>\n",
              "      <th>Cabin</th>\n",
              "      <th>Embarked</th>\n",
              "    </tr>\n",
              "  </thead>\n",
              "  <tbody>\n",
              "    <tr>\n",
              "      <th>0</th>\n",
              "      <td>892</td>\n",
              "      <td>3</td>\n",
              "      <td>Kelly, Mr. James</td>\n",
              "      <td>male</td>\n",
              "      <td>34.5</td>\n",
              "      <td>0</td>\n",
              "      <td>0</td>\n",
              "      <td>330911</td>\n",
              "      <td>7.8292</td>\n",
              "      <td>NaN</td>\n",
              "      <td>Q</td>\n",
              "    </tr>\n",
              "    <tr>\n",
              "      <th>1</th>\n",
              "      <td>893</td>\n",
              "      <td>3</td>\n",
              "      <td>Wilkes, Mrs. James (Ellen Needs)</td>\n",
              "      <td>female</td>\n",
              "      <td>47.0</td>\n",
              "      <td>1</td>\n",
              "      <td>0</td>\n",
              "      <td>363272</td>\n",
              "      <td>7.0000</td>\n",
              "      <td>NaN</td>\n",
              "      <td>S</td>\n",
              "    </tr>\n",
              "    <tr>\n",
              "      <th>2</th>\n",
              "      <td>894</td>\n",
              "      <td>2</td>\n",
              "      <td>Myles, Mr. Thomas Francis</td>\n",
              "      <td>male</td>\n",
              "      <td>62.0</td>\n",
              "      <td>0</td>\n",
              "      <td>0</td>\n",
              "      <td>240276</td>\n",
              "      <td>9.6875</td>\n",
              "      <td>NaN</td>\n",
              "      <td>Q</td>\n",
              "    </tr>\n",
              "    <tr>\n",
              "      <th>3</th>\n",
              "      <td>895</td>\n",
              "      <td>3</td>\n",
              "      <td>Wirz, Mr. Albert</td>\n",
              "      <td>male</td>\n",
              "      <td>27.0</td>\n",
              "      <td>0</td>\n",
              "      <td>0</td>\n",
              "      <td>315154</td>\n",
              "      <td>8.6625</td>\n",
              "      <td>NaN</td>\n",
              "      <td>S</td>\n",
              "    </tr>\n",
              "    <tr>\n",
              "      <th>4</th>\n",
              "      <td>896</td>\n",
              "      <td>3</td>\n",
              "      <td>Hirvonen, Mrs. Alexander (Helga E Lindqvist)</td>\n",
              "      <td>female</td>\n",
              "      <td>22.0</td>\n",
              "      <td>1</td>\n",
              "      <td>1</td>\n",
              "      <td>3101298</td>\n",
              "      <td>12.2875</td>\n",
              "      <td>NaN</td>\n",
              "      <td>S</td>\n",
              "    </tr>\n",
              "  </tbody>\n",
              "</table>\n",
              "</div>"
            ],
            "text/plain": [
              "   PassengerId  Pclass  ... Cabin Embarked\n",
              "0          892       3  ...   NaN        Q\n",
              "1          893       3  ...   NaN        S\n",
              "2          894       2  ...   NaN        Q\n",
              "3          895       3  ...   NaN        S\n",
              "4          896       3  ...   NaN        S\n",
              "\n",
              "[5 rows x 11 columns]"
            ]
          },
          "metadata": {
            "tags": []
          },
          "execution_count": 15
        }
      ]
    },
    {
      "cell_type": "code",
      "metadata": {
        "id": "qyfD02QAT_lk",
        "colab_type": "code",
        "outputId": "829cc073-fa4f-4c80-f427-d5665067615f",
        "colab": {
          "base_uri": "https://localhost:8080/",
          "height": 34
        }
      },
      "source": [
        "# proporções do conjunto de dados\n",
        "# 418 instâncias e dimensão 11\n",
        "\n",
        "test.shape"
      ],
      "execution_count": 17,
      "outputs": [
        {
          "output_type": "execute_result",
          "data": {
            "text/plain": [
              "(418, 11)"
            ]
          },
          "metadata": {
            "tags": []
          },
          "execution_count": 17
        }
      ]
    },
    {
      "cell_type": "code",
      "metadata": {
        "id": "XWFcYnf8UQLZ",
        "colab_type": "code",
        "outputId": "01421560-668e-4386-b591-6521ee43b666",
        "colab": {
          "base_uri": "https://localhost:8080/",
          "height": 225
        }
      },
      "source": [
        "test.isna().sum()"
      ],
      "execution_count": 18,
      "outputs": [
        {
          "output_type": "execute_result",
          "data": {
            "text/plain": [
              "PassengerId      0\n",
              "Pclass           0\n",
              "Name             0\n",
              "Sex              0\n",
              "Age             86\n",
              "SibSp            0\n",
              "Parch            0\n",
              "Ticket           0\n",
              "Fare             1\n",
              "Cabin          327\n",
              "Embarked         0\n",
              "dtype: int64"
            ]
          },
          "metadata": {
            "tags": []
          },
          "execution_count": 18
        }
      ]
    },
    {
      "cell_type": "code",
      "metadata": {
        "id": "cSdJiyCdXV3A",
        "colab_type": "code",
        "colab": {}
      },
      "source": [
        "from sklearn.impute import SimpleImputer"
      ],
      "execution_count": 0,
      "outputs": []
    },
    {
      "cell_type": "code",
      "metadata": {
        "id": "RqBoiPEiXa7n",
        "colab_type": "code",
        "colab": {}
      },
      "source": [
        "imputer3 = SimpleImputer(missing_values=np.nan, strategy='mean')"
      ],
      "execution_count": 0,
      "outputs": []
    },
    {
      "cell_type": "code",
      "metadata": {
        "id": "k7wp0wUz5pZ3",
        "colab_type": "code",
        "colab": {}
      },
      "source": [
        "test[['Age', 'Fare']] = imputer3.fit_transform(test[['Age', 'Fare']])"
      ],
      "execution_count": 0,
      "outputs": []
    },
    {
      "cell_type": "code",
      "metadata": {
        "id": "3vg-Srbp7NGc",
        "colab_type": "code",
        "colab": {}
      },
      "source": [
        "submission = pd.DataFrame()"
      ],
      "execution_count": 0,
      "outputs": []
    },
    {
      "cell_type": "code",
      "metadata": {
        "id": "_ouRBq0m8XJh",
        "colab_type": "code",
        "colab": {}
      },
      "source": [
        "submission['PassengerId'] = test['PassengerId']"
      ],
      "execution_count": 0,
      "outputs": []
    },
    {
      "cell_type": "code",
      "metadata": {
        "id": "AkNl6Ixs6HCi",
        "colab_type": "code",
        "colab": {}
      },
      "source": [
        "test.drop(columns=['PassengerId', 'Cabin'], axis=1, inplace=True)"
      ],
      "execution_count": 0,
      "outputs": []
    },
    {
      "cell_type": "markdown",
      "metadata": {
        "id": "0b1_oSGNTme-",
        "colab_type": "text"
      },
      "source": [
        "**Exemplo para envio**"
      ]
    },
    {
      "cell_type": "code",
      "metadata": {
        "id": "CGm5WgfgTdD_",
        "colab_type": "code",
        "outputId": "7b745c00-7fca-4409-cd39-7810018951f4",
        "colab": {
          "base_uri": "https://localhost:8080/",
          "height": 206
        }
      },
      "source": [
        "gender_submission.head()"
      ],
      "execution_count": 25,
      "outputs": [
        {
          "output_type": "execute_result",
          "data": {
            "text/html": [
              "<div>\n",
              "<style scoped>\n",
              "    .dataframe tbody tr th:only-of-type {\n",
              "        vertical-align: middle;\n",
              "    }\n",
              "\n",
              "    .dataframe tbody tr th {\n",
              "        vertical-align: top;\n",
              "    }\n",
              "\n",
              "    .dataframe thead th {\n",
              "        text-align: right;\n",
              "    }\n",
              "</style>\n",
              "<table border=\"1\" class=\"dataframe\">\n",
              "  <thead>\n",
              "    <tr style=\"text-align: right;\">\n",
              "      <th></th>\n",
              "      <th>PassengerId</th>\n",
              "      <th>Survived</th>\n",
              "    </tr>\n",
              "  </thead>\n",
              "  <tbody>\n",
              "    <tr>\n",
              "      <th>0</th>\n",
              "      <td>892</td>\n",
              "      <td>0</td>\n",
              "    </tr>\n",
              "    <tr>\n",
              "      <th>1</th>\n",
              "      <td>893</td>\n",
              "      <td>1</td>\n",
              "    </tr>\n",
              "    <tr>\n",
              "      <th>2</th>\n",
              "      <td>894</td>\n",
              "      <td>0</td>\n",
              "    </tr>\n",
              "    <tr>\n",
              "      <th>3</th>\n",
              "      <td>895</td>\n",
              "      <td>0</td>\n",
              "    </tr>\n",
              "    <tr>\n",
              "      <th>4</th>\n",
              "      <td>896</td>\n",
              "      <td>1</td>\n",
              "    </tr>\n",
              "  </tbody>\n",
              "</table>\n",
              "</div>"
            ],
            "text/plain": [
              "   PassengerId  Survived\n",
              "0          892         0\n",
              "1          893         1\n",
              "2          894         0\n",
              "3          895         0\n",
              "4          896         1"
            ]
          },
          "metadata": {
            "tags": []
          },
          "execution_count": 25
        }
      ]
    },
    {
      "cell_type": "code",
      "metadata": {
        "id": "s-rjsB7pUDUq",
        "colab_type": "code",
        "outputId": "6bd72769-40a6-4215-f54d-21558bb4ec19",
        "colab": {
          "base_uri": "https://localhost:8080/",
          "height": 34
        }
      },
      "source": [
        "gender_submission.shape"
      ],
      "execution_count": 26,
      "outputs": [
        {
          "output_type": "execute_result",
          "data": {
            "text/plain": [
              "(418, 2)"
            ]
          },
          "metadata": {
            "tags": []
          },
          "execution_count": 26
        }
      ]
    },
    {
      "cell_type": "markdown",
      "metadata": {
        "id": "Ppq_YXdX83Mg",
        "colab_type": "text"
      },
      "source": [
        "**Pré-Processamento**"
      ]
    },
    {
      "cell_type": "code",
      "metadata": {
        "id": "u9T9BBun_TwU",
        "colab_type": "code",
        "colab": {}
      },
      "source": [
        "sobreviveu = train['Survived']"
      ],
      "execution_count": 0,
      "outputs": []
    },
    {
      "cell_type": "code",
      "metadata": {
        "id": "-fGl5pCQ_b-g",
        "colab_type": "code",
        "colab": {}
      },
      "source": [
        "train.drop(columns=['Survived'], axis=1, inplace=True)"
      ],
      "execution_count": 0,
      "outputs": []
    },
    {
      "cell_type": "code",
      "metadata": {
        "id": "s2SBYAIpTfdW",
        "colab_type": "code",
        "colab": {}
      },
      "source": [
        "from sklearn.preprocessing import LabelEncoder"
      ],
      "execution_count": 0,
      "outputs": []
    },
    {
      "cell_type": "code",
      "metadata": {
        "id": "3VNRQW2uQG-L",
        "colab_type": "code",
        "colab": {}
      },
      "source": [
        "encoder = LabelEncoder()"
      ],
      "execution_count": 0,
      "outputs": []
    },
    {
      "cell_type": "code",
      "metadata": {
        "id": "k5eWipV3QLym",
        "colab_type": "code",
        "colab": {
          "base_uri": "https://localhost:8080/",
          "height": 34
        },
        "outputId": "8a0385db-7601-475e-f401-61a10f9a336e"
      },
      "source": [
        "encoder.fit(np.unique(train['Embarked'].unique().tolist() + test['Embarked'].unique().tolist()))"
      ],
      "execution_count": 31,
      "outputs": [
        {
          "output_type": "execute_result",
          "data": {
            "text/plain": [
              "LabelEncoder()"
            ]
          },
          "metadata": {
            "tags": []
          },
          "execution_count": 31
        }
      ]
    },
    {
      "cell_type": "code",
      "metadata": {
        "id": "t97schGxQhZX",
        "colab_type": "code",
        "colab": {}
      },
      "source": [
        "train['Embarked'] = encoder.transform(train['Embarked'])"
      ],
      "execution_count": 0,
      "outputs": []
    },
    {
      "cell_type": "code",
      "metadata": {
        "id": "FfNME-xhQqcK",
        "colab_type": "code",
        "colab": {}
      },
      "source": [
        "test['Embarked'] = encoder.transform(test['Embarked'])"
      ],
      "execution_count": 0,
      "outputs": []
    },
    {
      "cell_type": "code",
      "metadata": {
        "id": "5dPHICog9BMD",
        "colab_type": "code",
        "colab": {}
      },
      "source": [
        "for useCol in train.columns.tolist()[:-1]:\n",
        "  le = LabelEncoder().fit(np.unique(train[useCol].unique().tolist()+test[useCol].unique().tolist()))\n",
        "  train[useCol] = le.transform(train[useCol])\n",
        "  test[useCol] = le.transform(test[useCol])"
      ],
      "execution_count": 0,
      "outputs": []
    },
    {
      "cell_type": "code",
      "metadata": {
        "id": "ok7Ozv329Ukt",
        "colab_type": "code",
        "colab": {}
      },
      "source": [
        "train['Survived'] = sobreviveu"
      ],
      "execution_count": 0,
      "outputs": []
    },
    {
      "cell_type": "code",
      "metadata": {
        "id": "an0rzhEsAc2D",
        "colab_type": "code",
        "outputId": "6544f651-3c18-4d9a-bd98-17946ca2fe97",
        "colab": {
          "base_uri": "https://localhost:8080/",
          "height": 34
        }
      },
      "source": [
        "train.shape, test.shape"
      ],
      "execution_count": 38,
      "outputs": [
        {
          "output_type": "execute_result",
          "data": {
            "text/plain": [
              "((891, 10), (418, 9))"
            ]
          },
          "metadata": {
            "tags": []
          },
          "execution_count": 38
        }
      ]
    },
    {
      "cell_type": "code",
      "metadata": {
        "id": "NMW2wVRaA73W",
        "colab_type": "code",
        "colab": {}
      },
      "source": [
        "X = train.iloc[:, :-1]\n",
        "y = train.iloc[:, -1]"
      ],
      "execution_count": 0,
      "outputs": []
    },
    {
      "cell_type": "code",
      "metadata": {
        "id": "3Hlz7TyiAn9r",
        "colab_type": "code",
        "colab": {}
      },
      "source": [
        "from sklearn.model_selection import train_test_split"
      ],
      "execution_count": 0,
      "outputs": []
    },
    {
      "cell_type": "code",
      "metadata": {
        "id": "UbAJzQwbAxo6",
        "colab_type": "code",
        "colab": {}
      },
      "source": [
        "X_train, X_test, y_train, y_test = train_test_split(X, y, test_size=0.2, stratify=y, random_state=42)"
      ],
      "execution_count": 0,
      "outputs": []
    },
    {
      "cell_type": "code",
      "metadata": {
        "id": "HcyDQeOHBWbO",
        "colab_type": "code",
        "outputId": "7c96a792-ee34-4631-e855-f16a900a6485",
        "colab": {
          "base_uri": "https://localhost:8080/",
          "height": 34
        }
      },
      "source": [
        "X_train.shape, X_test.shape, y_train.shape, y_test.shape"
      ],
      "execution_count": 42,
      "outputs": [
        {
          "output_type": "execute_result",
          "data": {
            "text/plain": [
              "((712, 9), (179, 9), (712,), (179,))"
            ]
          },
          "metadata": {
            "tags": []
          },
          "execution_count": 42
        }
      ]
    },
    {
      "cell_type": "code",
      "metadata": {
        "id": "bkTJJckUDVmd",
        "colab_type": "code",
        "colab": {}
      },
      "source": [
        "from sklearn.preprocessing import StandardScaler"
      ],
      "execution_count": 0,
      "outputs": []
    },
    {
      "cell_type": "code",
      "metadata": {
        "id": "aqoYCICUDZ6M",
        "colab_type": "code",
        "colab": {}
      },
      "source": [
        "scale = StandardScaler()\n",
        "X_train = scale.fit_transform(X_train)\n",
        "X_test = scale.transform(X_test)"
      ],
      "execution_count": 0,
      "outputs": []
    },
    {
      "cell_type": "code",
      "metadata": {
        "id": "flT-6Fm9_0PB",
        "colab_type": "code",
        "colab": {
          "base_uri": "https://localhost:8080/",
          "height": 81
        },
        "outputId": "04c3915e-304c-405a-803c-d7927ac5cda5"
      },
      "source": [
        "import keras\n",
        "from keras.models import Sequential\n",
        "from keras.layers import Dense"
      ],
      "execution_count": 45,
      "outputs": [
        {
          "output_type": "stream",
          "text": [
            "Using TensorFlow backend.\n"
          ],
          "name": "stderr"
        },
        {
          "output_type": "display_data",
          "data": {
            "text/html": [
              "<p style=\"color: red;\">\n",
              "The default version of TensorFlow in Colab will soon switch to TensorFlow 2.x.<br>\n",
              "We recommend you <a href=\"https://www.tensorflow.org/guide/migrate\" target=\"_blank\">upgrade</a> now \n",
              "or ensure your notebook will continue to use TensorFlow 1.x via the <code>%tensorflow_version 1.x</code> magic:\n",
              "<a href=\"https://colab.research.google.com/notebooks/tensorflow_version.ipynb\" target=\"_blank\">more info</a>.</p>\n"
            ],
            "text/plain": [
              "<IPython.core.display.HTML object>"
            ]
          },
          "metadata": {
            "tags": []
          }
        }
      ]
    },
    {
      "cell_type": "code",
      "metadata": {
        "id": "isvXi8n6AJLh",
        "colab_type": "code",
        "colab": {
          "base_uri": "https://localhost:8080/",
          "height": 72
        },
        "outputId": "a3492503-973d-457a-b33f-5230a7221589"
      },
      "source": [
        "model = Sequential()"
      ],
      "execution_count": 46,
      "outputs": [
        {
          "output_type": "stream",
          "text": [
            "WARNING:tensorflow:From /usr/local/lib/python3.6/dist-packages/keras/backend/tensorflow_backend.py:66: The name tf.get_default_graph is deprecated. Please use tf.compat.v1.get_default_graph instead.\n",
            "\n"
          ],
          "name": "stdout"
        }
      ]
    },
    {
      "cell_type": "code",
      "metadata": {
        "id": "8jXxJsGkAVyZ",
        "colab_type": "code",
        "colab": {
          "base_uri": "https://localhost:8080/",
          "height": 106
        },
        "outputId": "7aeb21a2-7c74-4478-cd00-9b0d2c2285d5"
      },
      "source": [
        "model.add(Dense(units=5, activation='relu', input_dim=9))"
      ],
      "execution_count": 47,
      "outputs": [
        {
          "output_type": "stream",
          "text": [
            "WARNING:tensorflow:From /usr/local/lib/python3.6/dist-packages/keras/backend/tensorflow_backend.py:541: The name tf.placeholder is deprecated. Please use tf.compat.v1.placeholder instead.\n",
            "\n",
            "WARNING:tensorflow:From /usr/local/lib/python3.6/dist-packages/keras/backend/tensorflow_backend.py:4432: The name tf.random_uniform is deprecated. Please use tf.random.uniform instead.\n",
            "\n"
          ],
          "name": "stdout"
        }
      ]
    },
    {
      "cell_type": "code",
      "metadata": {
        "id": "rsbWSIAQCFK-",
        "colab_type": "code",
        "colab": {}
      },
      "source": [
        "model.add(Dense(units=5, activation='relu'))"
      ],
      "execution_count": 0,
      "outputs": []
    },
    {
      "cell_type": "code",
      "metadata": {
        "id": "FwCCvbyGCK27",
        "colab_type": "code",
        "colab": {}
      },
      "source": [
        "model.add(Dense(units=1, activation='sigmoid'))"
      ],
      "execution_count": 0,
      "outputs": []
    },
    {
      "cell_type": "code",
      "metadata": {
        "id": "ErpG16PlCSDK",
        "colab_type": "code",
        "colab": {
          "base_uri": "https://localhost:8080/",
          "height": 159
        },
        "outputId": "149a45f1-ad0f-4647-ae41-9028eaa3b5ed"
      },
      "source": [
        "model.compile(optimizer='adam', loss='binary_crossentropy', metrics=['accuracy'])"
      ],
      "execution_count": 50,
      "outputs": [
        {
          "output_type": "stream",
          "text": [
            "WARNING:tensorflow:From /usr/local/lib/python3.6/dist-packages/keras/optimizers.py:793: The name tf.train.Optimizer is deprecated. Please use tf.compat.v1.train.Optimizer instead.\n",
            "\n",
            "WARNING:tensorflow:From /usr/local/lib/python3.6/dist-packages/keras/backend/tensorflow_backend.py:3657: The name tf.log is deprecated. Please use tf.math.log instead.\n",
            "\n",
            "WARNING:tensorflow:From /usr/local/lib/python3.6/dist-packages/tensorflow_core/python/ops/nn_impl.py:183: where (from tensorflow.python.ops.array_ops) is deprecated and will be removed in a future version.\n",
            "Instructions for updating:\n",
            "Use tf.where in 2.0, which has the same broadcast rule as np.where\n"
          ],
          "name": "stdout"
        }
      ]
    },
    {
      "cell_type": "code",
      "metadata": {
        "id": "sQ6JGD9rCiNu",
        "colab_type": "code",
        "outputId": "a9d37fb8-ed33-4297-c6e8-d1f6d511e535",
        "colab": {
          "base_uri": "https://localhost:8080/",
          "height": 1000
        }
      },
      "source": [
        "model.fit(X_train, y_train, batch_size=10, epochs=100)"
      ],
      "execution_count": 51,
      "outputs": [
        {
          "output_type": "stream",
          "text": [
            "WARNING:tensorflow:From /usr/local/lib/python3.6/dist-packages/keras/backend/tensorflow_backend.py:1033: The name tf.assign_add is deprecated. Please use tf.compat.v1.assign_add instead.\n",
            "\n",
            "WARNING:tensorflow:From /usr/local/lib/python3.6/dist-packages/keras/backend/tensorflow_backend.py:1020: The name tf.assign is deprecated. Please use tf.compat.v1.assign instead.\n",
            "\n",
            "WARNING:tensorflow:From /usr/local/lib/python3.6/dist-packages/keras/backend/tensorflow_backend.py:3005: The name tf.Session is deprecated. Please use tf.compat.v1.Session instead.\n",
            "\n",
            "Epoch 1/100\n",
            "WARNING:tensorflow:From /usr/local/lib/python3.6/dist-packages/keras/backend/tensorflow_backend.py:190: The name tf.get_default_session is deprecated. Please use tf.compat.v1.get_default_session instead.\n",
            "\n",
            "WARNING:tensorflow:From /usr/local/lib/python3.6/dist-packages/keras/backend/tensorflow_backend.py:197: The name tf.ConfigProto is deprecated. Please use tf.compat.v1.ConfigProto instead.\n",
            "\n",
            "WARNING:tensorflow:From /usr/local/lib/python3.6/dist-packages/keras/backend/tensorflow_backend.py:207: The name tf.global_variables is deprecated. Please use tf.compat.v1.global_variables instead.\n",
            "\n",
            "WARNING:tensorflow:From /usr/local/lib/python3.6/dist-packages/keras/backend/tensorflow_backend.py:216: The name tf.is_variable_initialized is deprecated. Please use tf.compat.v1.is_variable_initialized instead.\n",
            "\n",
            "WARNING:tensorflow:From /usr/local/lib/python3.6/dist-packages/keras/backend/tensorflow_backend.py:223: The name tf.variables_initializer is deprecated. Please use tf.compat.v1.variables_initializer instead.\n",
            "\n",
            "712/712 [==============================] - 1s 1ms/step - loss: 0.7212 - acc: 0.4789\n",
            "Epoch 2/100\n",
            "712/712 [==============================] - 0s 118us/step - loss: 0.6736 - acc: 0.6419\n",
            "Epoch 3/100\n",
            "712/712 [==============================] - 0s 134us/step - loss: 0.6544 - acc: 0.6643\n",
            "Epoch 4/100\n",
            "712/712 [==============================] - 0s 139us/step - loss: 0.6390 - acc: 0.6798\n",
            "Epoch 5/100\n",
            "712/712 [==============================] - 0s 129us/step - loss: 0.6218 - acc: 0.6924\n",
            "Epoch 6/100\n",
            "712/712 [==============================] - 0s 132us/step - loss: 0.5996 - acc: 0.7051\n",
            "Epoch 7/100\n",
            "712/712 [==============================] - 0s 141us/step - loss: 0.5737 - acc: 0.7374\n",
            "Epoch 8/100\n",
            "712/712 [==============================] - 0s 144us/step - loss: 0.5461 - acc: 0.7584\n",
            "Epoch 9/100\n",
            "712/712 [==============================] - 0s 147us/step - loss: 0.5207 - acc: 0.7626\n",
            "Epoch 10/100\n",
            "712/712 [==============================] - 0s 147us/step - loss: 0.4976 - acc: 0.7753\n",
            "Epoch 11/100\n",
            "712/712 [==============================] - 0s 157us/step - loss: 0.4776 - acc: 0.7963\n",
            "Epoch 12/100\n",
            "712/712 [==============================] - 0s 154us/step - loss: 0.4604 - acc: 0.8132\n",
            "Epoch 13/100\n",
            "712/712 [==============================] - 0s 132us/step - loss: 0.4490 - acc: 0.8118\n",
            "Epoch 14/100\n",
            "712/712 [==============================] - 0s 128us/step - loss: 0.4405 - acc: 0.8076\n",
            "Epoch 15/100\n",
            "712/712 [==============================] - 0s 143us/step - loss: 0.4347 - acc: 0.8118\n",
            "Epoch 16/100\n",
            "712/712 [==============================] - 0s 139us/step - loss: 0.4295 - acc: 0.8090\n",
            "Epoch 17/100\n",
            "712/712 [==============================] - 0s 132us/step - loss: 0.4266 - acc: 0.8062\n",
            "Epoch 18/100\n",
            "712/712 [==============================] - 0s 142us/step - loss: 0.4233 - acc: 0.8118\n",
            "Epoch 19/100\n",
            "712/712 [==============================] - 0s 132us/step - loss: 0.4212 - acc: 0.8104\n",
            "Epoch 20/100\n",
            "712/712 [==============================] - 0s 164us/step - loss: 0.4181 - acc: 0.8118\n",
            "Epoch 21/100\n",
            "712/712 [==============================] - 0s 163us/step - loss: 0.4163 - acc: 0.8118\n",
            "Epoch 22/100\n",
            "712/712 [==============================] - 0s 142us/step - loss: 0.4139 - acc: 0.8146\n",
            "Epoch 23/100\n",
            "712/712 [==============================] - 0s 137us/step - loss: 0.4126 - acc: 0.8104\n",
            "Epoch 24/100\n",
            "712/712 [==============================] - 0s 144us/step - loss: 0.4101 - acc: 0.8104\n",
            "Epoch 25/100\n",
            "712/712 [==============================] - 0s 128us/step - loss: 0.4078 - acc: 0.8104\n",
            "Epoch 26/100\n",
            "712/712 [==============================] - 0s 132us/step - loss: 0.4066 - acc: 0.8146\n",
            "Epoch 27/100\n",
            "712/712 [==============================] - 0s 134us/step - loss: 0.4041 - acc: 0.8132\n",
            "Epoch 28/100\n",
            "712/712 [==============================] - 0s 133us/step - loss: 0.4027 - acc: 0.8188\n",
            "Epoch 29/100\n",
            "712/712 [==============================] - 0s 132us/step - loss: 0.4018 - acc: 0.8202\n",
            "Epoch 30/100\n",
            "712/712 [==============================] - 0s 142us/step - loss: 0.3999 - acc: 0.8216\n",
            "Epoch 31/100\n",
            "712/712 [==============================] - 0s 173us/step - loss: 0.3989 - acc: 0.8174\n",
            "Epoch 32/100\n",
            "712/712 [==============================] - 0s 144us/step - loss: 0.3979 - acc: 0.8188\n",
            "Epoch 33/100\n",
            "712/712 [==============================] - 0s 139us/step - loss: 0.3963 - acc: 0.8202\n",
            "Epoch 34/100\n",
            "712/712 [==============================] - 0s 129us/step - loss: 0.3957 - acc: 0.8287\n",
            "Epoch 35/100\n",
            "712/712 [==============================] - 0s 137us/step - loss: 0.3943 - acc: 0.8258\n",
            "Epoch 36/100\n",
            "712/712 [==============================] - 0s 131us/step - loss: 0.3942 - acc: 0.8315\n",
            "Epoch 37/100\n",
            "712/712 [==============================] - 0s 167us/step - loss: 0.3931 - acc: 0.8272\n",
            "Epoch 38/100\n",
            "712/712 [==============================] - 0s 172us/step - loss: 0.3923 - acc: 0.8272\n",
            "Epoch 39/100\n",
            "712/712 [==============================] - 0s 164us/step - loss: 0.3918 - acc: 0.8315\n",
            "Epoch 40/100\n",
            "712/712 [==============================] - 0s 137us/step - loss: 0.3912 - acc: 0.8287\n",
            "Epoch 41/100\n",
            "712/712 [==============================] - 0s 146us/step - loss: 0.3901 - acc: 0.8329\n",
            "Epoch 42/100\n",
            "712/712 [==============================] - 0s 155us/step - loss: 0.3903 - acc: 0.8301\n",
            "Epoch 43/100\n",
            "712/712 [==============================] - 0s 137us/step - loss: 0.3905 - acc: 0.8287\n",
            "Epoch 44/100\n",
            "712/712 [==============================] - 0s 131us/step - loss: 0.3881 - acc: 0.8357\n",
            "Epoch 45/100\n",
            "712/712 [==============================] - 0s 135us/step - loss: 0.3874 - acc: 0.8371\n",
            "Epoch 46/100\n",
            "712/712 [==============================] - 0s 138us/step - loss: 0.3876 - acc: 0.8329\n",
            "Epoch 47/100\n",
            "712/712 [==============================] - 0s 145us/step - loss: 0.3873 - acc: 0.8287\n",
            "Epoch 48/100\n",
            "712/712 [==============================] - 0s 129us/step - loss: 0.3861 - acc: 0.8371\n",
            "Epoch 49/100\n",
            "712/712 [==============================] - 0s 137us/step - loss: 0.3860 - acc: 0.8343\n",
            "Epoch 50/100\n",
            "712/712 [==============================] - 0s 136us/step - loss: 0.3851 - acc: 0.8357\n",
            "Epoch 51/100\n",
            "712/712 [==============================] - 0s 147us/step - loss: 0.3848 - acc: 0.8329\n",
            "Epoch 52/100\n",
            "712/712 [==============================] - 0s 133us/step - loss: 0.3844 - acc: 0.8399\n",
            "Epoch 53/100\n",
            "712/712 [==============================] - 0s 136us/step - loss: 0.3847 - acc: 0.8343\n",
            "Epoch 54/100\n",
            "712/712 [==============================] - 0s 133us/step - loss: 0.3841 - acc: 0.8371\n",
            "Epoch 55/100\n",
            "712/712 [==============================] - 0s 132us/step - loss: 0.3819 - acc: 0.8385\n",
            "Epoch 56/100\n",
            "712/712 [==============================] - 0s 145us/step - loss: 0.3824 - acc: 0.8427\n",
            "Epoch 57/100\n",
            "712/712 [==============================] - 0s 165us/step - loss: 0.3814 - acc: 0.8399\n",
            "Epoch 58/100\n",
            "712/712 [==============================] - 0s 156us/step - loss: 0.3815 - acc: 0.8343\n",
            "Epoch 59/100\n",
            "712/712 [==============================] - 0s 161us/step - loss: 0.3817 - acc: 0.8371\n",
            "Epoch 60/100\n",
            "712/712 [==============================] - 0s 161us/step - loss: 0.3805 - acc: 0.8427\n",
            "Epoch 61/100\n",
            "712/712 [==============================] - 0s 141us/step - loss: 0.3795 - acc: 0.8385\n",
            "Epoch 62/100\n",
            "712/712 [==============================] - 0s 136us/step - loss: 0.3789 - acc: 0.8385\n",
            "Epoch 63/100\n",
            "712/712 [==============================] - 0s 131us/step - loss: 0.3790 - acc: 0.8413\n",
            "Epoch 64/100\n",
            "712/712 [==============================] - 0s 143us/step - loss: 0.3787 - acc: 0.8413\n",
            "Epoch 65/100\n",
            "712/712 [==============================] - 0s 148us/step - loss: 0.3793 - acc: 0.8357\n",
            "Epoch 66/100\n",
            "712/712 [==============================] - 0s 159us/step - loss: 0.3772 - acc: 0.8371\n",
            "Epoch 67/100\n",
            "712/712 [==============================] - 0s 130us/step - loss: 0.3774 - acc: 0.8385\n",
            "Epoch 68/100\n",
            "712/712 [==============================] - 0s 132us/step - loss: 0.3764 - acc: 0.8385\n",
            "Epoch 69/100\n",
            "712/712 [==============================] - 0s 135us/step - loss: 0.3766 - acc: 0.8371\n",
            "Epoch 70/100\n",
            "712/712 [==============================] - 0s 122us/step - loss: 0.3765 - acc: 0.8371\n",
            "Epoch 71/100\n",
            "712/712 [==============================] - 0s 165us/step - loss: 0.3753 - acc: 0.8441\n",
            "Epoch 72/100\n",
            "712/712 [==============================] - 0s 166us/step - loss: 0.3754 - acc: 0.8413\n",
            "Epoch 73/100\n",
            "712/712 [==============================] - 0s 133us/step - loss: 0.3755 - acc: 0.8399\n",
            "Epoch 74/100\n",
            "712/712 [==============================] - 0s 146us/step - loss: 0.3750 - acc: 0.8427\n",
            "Epoch 75/100\n",
            "712/712 [==============================] - 0s 129us/step - loss: 0.3745 - acc: 0.8441\n",
            "Epoch 76/100\n",
            "712/712 [==============================] - 0s 147us/step - loss: 0.3738 - acc: 0.8413\n",
            "Epoch 77/100\n",
            "712/712 [==============================] - 0s 141us/step - loss: 0.3738 - acc: 0.8399\n",
            "Epoch 78/100\n",
            "712/712 [==============================] - 0s 136us/step - loss: 0.3727 - acc: 0.8441\n",
            "Epoch 79/100\n",
            "712/712 [==============================] - 0s 132us/step - loss: 0.3732 - acc: 0.8441\n",
            "Epoch 80/100\n",
            "712/712 [==============================] - 0s 140us/step - loss: 0.3727 - acc: 0.8427\n",
            "Epoch 81/100\n",
            "712/712 [==============================] - 0s 145us/step - loss: 0.3725 - acc: 0.8413\n",
            "Epoch 82/100\n",
            "712/712 [==============================] - 0s 133us/step - loss: 0.3727 - acc: 0.8413\n",
            "Epoch 83/100\n",
            "712/712 [==============================] - 0s 139us/step - loss: 0.3715 - acc: 0.8427\n",
            "Epoch 84/100\n",
            "712/712 [==============================] - 0s 140us/step - loss: 0.3708 - acc: 0.8441\n",
            "Epoch 85/100\n",
            "712/712 [==============================] - 0s 128us/step - loss: 0.3703 - acc: 0.8427\n",
            "Epoch 86/100\n",
            "712/712 [==============================] - 0s 133us/step - loss: 0.3704 - acc: 0.8427\n",
            "Epoch 87/100\n",
            "712/712 [==============================] - 0s 134us/step - loss: 0.3703 - acc: 0.8441\n",
            "Epoch 88/100\n",
            "712/712 [==============================] - 0s 134us/step - loss: 0.3706 - acc: 0.8441\n",
            "Epoch 89/100\n",
            "712/712 [==============================] - 0s 146us/step - loss: 0.3693 - acc: 0.8427\n",
            "Epoch 90/100\n",
            "712/712 [==============================] - 0s 132us/step - loss: 0.3700 - acc: 0.8413\n",
            "Epoch 91/100\n",
            "712/712 [==============================] - 0s 153us/step - loss: 0.3700 - acc: 0.8385\n",
            "Epoch 92/100\n",
            "712/712 [==============================] - 0s 146us/step - loss: 0.3693 - acc: 0.8427\n",
            "Epoch 93/100\n",
            "712/712 [==============================] - 0s 132us/step - loss: 0.3683 - acc: 0.8441\n",
            "Epoch 94/100\n",
            "712/712 [==============================] - 0s 138us/step - loss: 0.3682 - acc: 0.8427\n",
            "Epoch 95/100\n",
            "712/712 [==============================] - 0s 143us/step - loss: 0.3695 - acc: 0.8413\n",
            "Epoch 96/100\n",
            "712/712 [==============================] - 0s 146us/step - loss: 0.3689 - acc: 0.8469\n",
            "Epoch 97/100\n",
            "712/712 [==============================] - 0s 151us/step - loss: 0.3678 - acc: 0.8427\n",
            "Epoch 98/100\n",
            "712/712 [==============================] - 0s 135us/step - loss: 0.3682 - acc: 0.8413\n",
            "Epoch 99/100\n",
            "712/712 [==============================] - 0s 146us/step - loss: 0.3683 - acc: 0.8469\n",
            "Epoch 100/100\n",
            "712/712 [==============================] - 0s 133us/step - loss: 0.3673 - acc: 0.8413\n"
          ],
          "name": "stdout"
        },
        {
          "output_type": "execute_result",
          "data": {
            "text/plain": [
              "<keras.callbacks.History at 0x7fce048d79b0>"
            ]
          },
          "metadata": {
            "tags": []
          },
          "execution_count": 51
        }
      ]
    },
    {
      "cell_type": "code",
      "metadata": {
        "id": "N0QAOoYSCqR2",
        "colab_type": "code",
        "colab": {}
      },
      "source": [
        "y_pred = model.predict(X_test)"
      ],
      "execution_count": 0,
      "outputs": []
    },
    {
      "cell_type": "code",
      "metadata": {
        "id": "ofo3ujueDvo4",
        "colab_type": "code",
        "colab": {}
      },
      "source": [
        "y_pred = (y_pred > 0.5)"
      ],
      "execution_count": 0,
      "outputs": []
    },
    {
      "cell_type": "code",
      "metadata": {
        "id": "wgXRtmV7D8ab",
        "colab_type": "code",
        "colab": {}
      },
      "source": [
        "from sklearn.metrics import accuracy_score, confusion_matrix"
      ],
      "execution_count": 0,
      "outputs": []
    },
    {
      "cell_type": "code",
      "metadata": {
        "id": "tBxSHTVKED4K",
        "colab_type": "code",
        "outputId": "faf34d12-234b-494a-b64e-fccaf516b4a5",
        "colab": {
          "base_uri": "https://localhost:8080/",
          "height": 34
        }
      },
      "source": [
        "accuracy_score(y_test, y_pred)"
      ],
      "execution_count": 55,
      "outputs": [
        {
          "output_type": "execute_result",
          "data": {
            "text/plain": [
              "0.7932960893854749"
            ]
          },
          "metadata": {
            "tags": []
          },
          "execution_count": 55
        }
      ]
    },
    {
      "cell_type": "code",
      "metadata": {
        "id": "Uw6DbVJoEHzv",
        "colab_type": "code",
        "outputId": "c65b6046-a031-4edd-ce0d-cf1c7e57da54",
        "colab": {
          "base_uri": "https://localhost:8080/",
          "height": 52
        }
      },
      "source": [
        "confusion_matrix(y_test, y_pred)"
      ],
      "execution_count": 56,
      "outputs": [
        {
          "output_type": "execute_result",
          "data": {
            "text/plain": [
              "array([[98, 12],\n",
              "       [25, 44]])"
            ]
          },
          "metadata": {
            "tags": []
          },
          "execution_count": 56
        }
      ]
    },
    {
      "cell_type": "code",
      "metadata": {
        "id": "gL7JrtPLEaSO",
        "colab_type": "code",
        "colab": {}
      },
      "source": [
        "std = StandardScaler()\n",
        "X = std.fit_transform(X)\n",
        "test = std.transform(test)"
      ],
      "execution_count": 0,
      "outputs": []
    },
    {
      "cell_type": "code",
      "metadata": {
        "id": "uoTOSac-EOi-",
        "colab_type": "code",
        "colab": {}
      },
      "source": [
        "classificador = Sequential()"
      ],
      "execution_count": 0,
      "outputs": []
    },
    {
      "cell_type": "code",
      "metadata": {
        "id": "vgnu-czcE5Vh",
        "colab_type": "code",
        "colab": {}
      },
      "source": [
        "classificador.add(Dense(units=5, activation='relu', input_dim=9))"
      ],
      "execution_count": 0,
      "outputs": []
    },
    {
      "cell_type": "code",
      "metadata": {
        "id": "ym74JNotFHqv",
        "colab_type": "code",
        "colab": {}
      },
      "source": [
        "classificador.add(Dense(units=9, activation='relu'))"
      ],
      "execution_count": 0,
      "outputs": []
    },
    {
      "cell_type": "code",
      "metadata": {
        "id": "Pq6llLkCFPaL",
        "colab_type": "code",
        "colab": {}
      },
      "source": [
        "classificador.add(Dense(units=1, activation='sigmoid'))"
      ],
      "execution_count": 0,
      "outputs": []
    },
    {
      "cell_type": "code",
      "metadata": {
        "id": "Z_4i6x5vFXFt",
        "colab_type": "code",
        "colab": {}
      },
      "source": [
        "classificador.compile(optimizer='adam', loss='binary_crossentropy', metrics=['accuracy'])"
      ],
      "execution_count": 0,
      "outputs": []
    },
    {
      "cell_type": "code",
      "metadata": {
        "id": "Z_RTzPlqFlrH",
        "colab_type": "code",
        "outputId": "11573756-95a1-4cee-aa06-e2275c70111d",
        "colab": {
          "base_uri": "https://localhost:8080/",
          "height": 1000
        }
      },
      "source": [
        "classificador.fit(X, y, batch_size=10, epochs=100)"
      ],
      "execution_count": 63,
      "outputs": [
        {
          "output_type": "stream",
          "text": [
            "Epoch 1/100\n",
            "891/891 [==============================] - 0s 451us/step - loss: 0.6112 - acc: 0.6330\n",
            "Epoch 2/100\n",
            "891/891 [==============================] - 0s 149us/step - loss: 0.5688 - acc: 0.7082\n",
            "Epoch 3/100\n",
            "891/891 [==============================] - 0s 128us/step - loss: 0.5449 - acc: 0.7486\n",
            "Epoch 4/100\n",
            "891/891 [==============================] - 0s 150us/step - loss: 0.5257 - acc: 0.7744\n",
            "Epoch 5/100\n",
            "891/891 [==============================] - 0s 132us/step - loss: 0.5111 - acc: 0.7834\n",
            "Epoch 6/100\n",
            "891/891 [==============================] - 0s 138us/step - loss: 0.4960 - acc: 0.7957\n",
            "Epoch 7/100\n",
            "891/891 [==============================] - 0s 135us/step - loss: 0.4846 - acc: 0.7935\n",
            "Epoch 8/100\n",
            "891/891 [==============================] - 0s 122us/step - loss: 0.4751 - acc: 0.7924\n",
            "Epoch 9/100\n",
            "891/891 [==============================] - 0s 131us/step - loss: 0.4680 - acc: 0.8013\n",
            "Epoch 10/100\n",
            "891/891 [==============================] - 0s 130us/step - loss: 0.4615 - acc: 0.8081\n",
            "Epoch 11/100\n",
            "891/891 [==============================] - 0s 127us/step - loss: 0.4559 - acc: 0.8081\n",
            "Epoch 12/100\n",
            "891/891 [==============================] - 0s 146us/step - loss: 0.4507 - acc: 0.8137\n",
            "Epoch 13/100\n",
            "891/891 [==============================] - 0s 133us/step - loss: 0.4470 - acc: 0.8204\n",
            "Epoch 14/100\n",
            "891/891 [==============================] - 0s 133us/step - loss: 0.4434 - acc: 0.8193\n",
            "Epoch 15/100\n",
            "891/891 [==============================] - 0s 127us/step - loss: 0.4423 - acc: 0.8159\n",
            "Epoch 16/100\n",
            "891/891 [==============================] - 0s 131us/step - loss: 0.4384 - acc: 0.8193\n",
            "Epoch 17/100\n",
            "891/891 [==============================] - 0s 132us/step - loss: 0.4366 - acc: 0.8215\n",
            "Epoch 18/100\n",
            "891/891 [==============================] - 0s 140us/step - loss: 0.4343 - acc: 0.8204\n",
            "Epoch 19/100\n",
            "891/891 [==============================] - 0s 141us/step - loss: 0.4326 - acc: 0.8227\n",
            "Epoch 20/100\n",
            "891/891 [==============================] - 0s 157us/step - loss: 0.4307 - acc: 0.8182\n",
            "Epoch 21/100\n",
            "891/891 [==============================] - 0s 137us/step - loss: 0.4285 - acc: 0.8182\n",
            "Epoch 22/100\n",
            "891/891 [==============================] - 0s 130us/step - loss: 0.4272 - acc: 0.8182\n",
            "Epoch 23/100\n",
            "891/891 [==============================] - 0s 135us/step - loss: 0.4263 - acc: 0.8193\n",
            "Epoch 24/100\n",
            "891/891 [==============================] - 0s 134us/step - loss: 0.4242 - acc: 0.8193\n",
            "Epoch 25/100\n",
            "891/891 [==============================] - 0s 133us/step - loss: 0.4227 - acc: 0.8193\n",
            "Epoch 26/100\n",
            "891/891 [==============================] - 0s 142us/step - loss: 0.4203 - acc: 0.8215\n",
            "Epoch 27/100\n",
            "891/891 [==============================] - 0s 132us/step - loss: 0.4191 - acc: 0.8215\n",
            "Epoch 28/100\n",
            "891/891 [==============================] - 0s 133us/step - loss: 0.4180 - acc: 0.8204\n",
            "Epoch 29/100\n",
            "891/891 [==============================] - 0s 146us/step - loss: 0.4159 - acc: 0.8227\n",
            "Epoch 30/100\n",
            "891/891 [==============================] - 0s 142us/step - loss: 0.4141 - acc: 0.8204\n",
            "Epoch 31/100\n",
            "891/891 [==============================] - 0s 130us/step - loss: 0.4132 - acc: 0.8238\n",
            "Epoch 32/100\n",
            "891/891 [==============================] - 0s 138us/step - loss: 0.4118 - acc: 0.8238\n",
            "Epoch 33/100\n",
            "891/891 [==============================] - 0s 139us/step - loss: 0.4106 - acc: 0.8260\n",
            "Epoch 34/100\n",
            "891/891 [==============================] - 0s 140us/step - loss: 0.4090 - acc: 0.8249\n",
            "Epoch 35/100\n",
            "891/891 [==============================] - 0s 151us/step - loss: 0.4089 - acc: 0.8283\n",
            "Epoch 36/100\n",
            "891/891 [==============================] - 0s 135us/step - loss: 0.4077 - acc: 0.8249\n",
            "Epoch 37/100\n",
            "891/891 [==============================] - 0s 133us/step - loss: 0.4073 - acc: 0.8283\n",
            "Epoch 38/100\n",
            "891/891 [==============================] - 0s 138us/step - loss: 0.4062 - acc: 0.8283\n",
            "Epoch 39/100\n",
            "891/891 [==============================] - 0s 137us/step - loss: 0.4056 - acc: 0.8227\n",
            "Epoch 40/100\n",
            "891/891 [==============================] - 0s 177us/step - loss: 0.4041 - acc: 0.8283\n",
            "Epoch 41/100\n",
            "891/891 [==============================] - 0s 150us/step - loss: 0.4027 - acc: 0.8260\n",
            "Epoch 42/100\n",
            "891/891 [==============================] - 0s 140us/step - loss: 0.4022 - acc: 0.8272\n",
            "Epoch 43/100\n",
            "891/891 [==============================] - 0s 138us/step - loss: 0.4006 - acc: 0.8272\n",
            "Epoch 44/100\n",
            "891/891 [==============================] - 0s 171us/step - loss: 0.4003 - acc: 0.8328\n",
            "Epoch 45/100\n",
            "891/891 [==============================] - 0s 135us/step - loss: 0.3993 - acc: 0.8260\n",
            "Epoch 46/100\n",
            "891/891 [==============================] - 0s 152us/step - loss: 0.3988 - acc: 0.8316\n",
            "Epoch 47/100\n",
            "891/891 [==============================] - 0s 137us/step - loss: 0.3983 - acc: 0.8328\n",
            "Epoch 48/100\n",
            "891/891 [==============================] - 0s 152us/step - loss: 0.3972 - acc: 0.8361\n",
            "Epoch 49/100\n",
            "891/891 [==============================] - 0s 145us/step - loss: 0.3970 - acc: 0.8328\n",
            "Epoch 50/100\n",
            "891/891 [==============================] - 0s 151us/step - loss: 0.3958 - acc: 0.8361\n",
            "Epoch 51/100\n",
            "891/891 [==============================] - 0s 154us/step - loss: 0.3959 - acc: 0.8361\n",
            "Epoch 52/100\n",
            "891/891 [==============================] - 0s 161us/step - loss: 0.3950 - acc: 0.8328\n",
            "Epoch 53/100\n",
            "891/891 [==============================] - 0s 137us/step - loss: 0.3946 - acc: 0.8294\n",
            "Epoch 54/100\n",
            "891/891 [==============================] - 0s 146us/step - loss: 0.3940 - acc: 0.8328\n",
            "Epoch 55/100\n",
            "891/891 [==============================] - 0s 150us/step - loss: 0.3941 - acc: 0.8350\n",
            "Epoch 56/100\n",
            "891/891 [==============================] - 0s 168us/step - loss: 0.3929 - acc: 0.8316\n",
            "Epoch 57/100\n",
            "891/891 [==============================] - 0s 155us/step - loss: 0.3931 - acc: 0.8361\n",
            "Epoch 58/100\n",
            "891/891 [==============================] - 0s 157us/step - loss: 0.3923 - acc: 0.8339\n",
            "Epoch 59/100\n",
            "891/891 [==============================] - 0s 155us/step - loss: 0.3916 - acc: 0.8283\n",
            "Epoch 60/100\n",
            "891/891 [==============================] - 0s 139us/step - loss: 0.3918 - acc: 0.8350\n",
            "Epoch 61/100\n",
            "891/891 [==============================] - 0s 144us/step - loss: 0.3902 - acc: 0.8418\n",
            "Epoch 62/100\n",
            "891/891 [==============================] - 0s 141us/step - loss: 0.3899 - acc: 0.8395\n",
            "Epoch 63/100\n",
            "891/891 [==============================] - 0s 140us/step - loss: 0.3899 - acc: 0.8384\n",
            "Epoch 64/100\n",
            "891/891 [==============================] - 0s 137us/step - loss: 0.3897 - acc: 0.8429\n",
            "Epoch 65/100\n",
            "891/891 [==============================] - 0s 150us/step - loss: 0.3884 - acc: 0.8429\n",
            "Epoch 66/100\n",
            "891/891 [==============================] - 0s 139us/step - loss: 0.3883 - acc: 0.8440\n",
            "Epoch 67/100\n",
            "891/891 [==============================] - 0s 135us/step - loss: 0.3882 - acc: 0.8384\n",
            "Epoch 68/100\n",
            "891/891 [==============================] - 0s 158us/step - loss: 0.3879 - acc: 0.8406\n",
            "Epoch 69/100\n",
            "891/891 [==============================] - 0s 140us/step - loss: 0.3876 - acc: 0.8462\n",
            "Epoch 70/100\n",
            "891/891 [==============================] - 0s 155us/step - loss: 0.3871 - acc: 0.8440\n",
            "Epoch 71/100\n",
            "891/891 [==============================] - 0s 160us/step - loss: 0.3861 - acc: 0.8429\n",
            "Epoch 72/100\n",
            "891/891 [==============================] - 0s 143us/step - loss: 0.3858 - acc: 0.8451\n",
            "Epoch 73/100\n",
            "891/891 [==============================] - 0s 143us/step - loss: 0.3864 - acc: 0.8462\n",
            "Epoch 74/100\n",
            "891/891 [==============================] - 0s 139us/step - loss: 0.3850 - acc: 0.8451\n",
            "Epoch 75/100\n",
            "891/891 [==============================] - 0s 136us/step - loss: 0.3855 - acc: 0.8406\n",
            "Epoch 76/100\n",
            "891/891 [==============================] - 0s 138us/step - loss: 0.3848 - acc: 0.8451\n",
            "Epoch 77/100\n",
            "891/891 [==============================] - 0s 138us/step - loss: 0.3840 - acc: 0.8406\n",
            "Epoch 78/100\n",
            "891/891 [==============================] - 0s 152us/step - loss: 0.3838 - acc: 0.8440\n",
            "Epoch 79/100\n",
            "891/891 [==============================] - 0s 141us/step - loss: 0.3832 - acc: 0.8440\n",
            "Epoch 80/100\n",
            "891/891 [==============================] - 0s 133us/step - loss: 0.3829 - acc: 0.8485\n",
            "Epoch 81/100\n",
            "891/891 [==============================] - 0s 148us/step - loss: 0.3827 - acc: 0.8496\n",
            "Epoch 82/100\n",
            "891/891 [==============================] - 0s 153us/step - loss: 0.3821 - acc: 0.8429\n",
            "Epoch 83/100\n",
            "891/891 [==============================] - 0s 135us/step - loss: 0.3824 - acc: 0.8496\n",
            "Epoch 84/100\n",
            "891/891 [==============================] - 0s 139us/step - loss: 0.3819 - acc: 0.8496\n",
            "Epoch 85/100\n",
            "891/891 [==============================] - 0s 140us/step - loss: 0.3819 - acc: 0.8440\n",
            "Epoch 86/100\n",
            "891/891 [==============================] - 0s 135us/step - loss: 0.3809 - acc: 0.8474\n",
            "Epoch 87/100\n",
            "891/891 [==============================] - 0s 142us/step - loss: 0.3808 - acc: 0.8474\n",
            "Epoch 88/100\n",
            "891/891 [==============================] - 0s 147us/step - loss: 0.3803 - acc: 0.8474\n",
            "Epoch 89/100\n",
            "891/891 [==============================] - 0s 146us/step - loss: 0.3805 - acc: 0.8451\n",
            "Epoch 90/100\n",
            "891/891 [==============================] - 0s 150us/step - loss: 0.3793 - acc: 0.8474\n",
            "Epoch 91/100\n",
            "891/891 [==============================] - 0s 150us/step - loss: 0.3798 - acc: 0.8440\n",
            "Epoch 92/100\n",
            "891/891 [==============================] - 0s 158us/step - loss: 0.3792 - acc: 0.8451\n",
            "Epoch 93/100\n",
            "891/891 [==============================] - 0s 146us/step - loss: 0.3793 - acc: 0.8440\n",
            "Epoch 94/100\n",
            "891/891 [==============================] - 0s 142us/step - loss: 0.3788 - acc: 0.8496\n",
            "Epoch 95/100\n",
            "891/891 [==============================] - 0s 137us/step - loss: 0.3785 - acc: 0.8474\n",
            "Epoch 96/100\n",
            "891/891 [==============================] - 0s 144us/step - loss: 0.3780 - acc: 0.8462\n",
            "Epoch 97/100\n",
            "891/891 [==============================] - 0s 135us/step - loss: 0.3786 - acc: 0.8429\n",
            "Epoch 98/100\n",
            "891/891 [==============================] - 0s 145us/step - loss: 0.3775 - acc: 0.8440\n",
            "Epoch 99/100\n",
            "891/891 [==============================] - 0s 145us/step - loss: 0.3771 - acc: 0.8418\n",
            "Epoch 100/100\n",
            "891/891 [==============================] - 0s 150us/step - loss: 0.3771 - acc: 0.8462\n"
          ],
          "name": "stdout"
        },
        {
          "output_type": "execute_result",
          "data": {
            "text/plain": [
              "<keras.callbacks.History at 0x7fcdfed46978>"
            ]
          },
          "metadata": {
            "tags": []
          },
          "execution_count": 63
        }
      ]
    },
    {
      "cell_type": "code",
      "metadata": {
        "id": "d4V3I3ZOFuP2",
        "colab_type": "code",
        "colab": {}
      },
      "source": [
        "prediction = classificador.predict(test)"
      ],
      "execution_count": 0,
      "outputs": []
    },
    {
      "cell_type": "code",
      "metadata": {
        "id": "_jhLGr_VF6zV",
        "colab_type": "code",
        "colab": {}
      },
      "source": [
        "prediction = (prediction > 0.5)"
      ],
      "execution_count": 0,
      "outputs": []
    },
    {
      "cell_type": "code",
      "metadata": {
        "id": "FcmgVNSdGAYW",
        "colab_type": "code",
        "colab": {}
      },
      "source": [
        "submission['Survived'] = prediction"
      ],
      "execution_count": 0,
      "outputs": []
    },
    {
      "cell_type": "code",
      "metadata": {
        "id": "-q18pZd7GGCS",
        "colab_type": "code",
        "colab": {}
      },
      "source": [
        "submission['Survived'] = np.where(submission['Survived'] == False, 0, 1)"
      ],
      "execution_count": 0,
      "outputs": []
    },
    {
      "cell_type": "code",
      "metadata": {
        "id": "Itt6cvSTGG1i",
        "colab_type": "code",
        "colab": {}
      },
      "source": [
        "submission.to_csv('/content/drive/My Drive/kaggle_competitions/titanic/submission.csv', index=False)"
      ],
      "execution_count": 0,
      "outputs": []
    },
    {
      "cell_type": "code",
      "metadata": {
        "id": "Ht5nrFBYIiIM",
        "colab_type": "code",
        "colab": {}
      },
      "source": [
        ""
      ],
      "execution_count": 0,
      "outputs": []
    }
  ]
}